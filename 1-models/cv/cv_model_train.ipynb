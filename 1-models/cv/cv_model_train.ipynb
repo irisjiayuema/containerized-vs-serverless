{
  "nbformat": 4,
  "nbformat_minor": 0,
  "metadata": {
    "colab": {
      "provenance": []
    },
    "kernelspec": {
      "name": "python3",
      "display_name": "Python 3"
    },
    "language_info": {
      "name": "python"
    }
  },
  "cells": [
    {
      "cell_type": "code",
      "source": [
        "import tensorflow as tf\n",
        "\n",
        "from tensorflow.keras.layers import Dense, Flatten, Conv2D\n",
        "from tensorflow.keras import Model\n",
        "EPOCHS = 10\n",
        "\n",
        "mnist = tf.keras.datasets.mnist\n",
        "fashion_mnist = tf.keras.datasets.fashion_mnist\n",
        "\n",
        "(x_train, y_train), (x_test, y_test) = fashion_mnist.load_data()\n",
        "x_train, x_test = x_train / 255.0, x_test / 255.0\n",
        "\n",
        "# Add a channels dimension e.g. (60000, 28, 28) => (60000, 28, 28, 1)\n",
        "x_train = x_train[..., tf.newaxis]\n",
        "x_test = x_test[..., tf.newaxis]\n",
        "\n",
        "train_ds = tf.data.Dataset.from_tensor_slices(\n",
        "    (x_train, y_train)).shuffle(10000).batch(32)\n",
        "test_ds = tf.data.Dataset.from_tensor_slices((x_test, y_test)).batch(32)\n",
        "\n",
        "class CustomModel(Model):\n",
        "  def __init__(self):\n",
        "    super(CustomModel, self).__init__()\n",
        "    self.conv1 = Conv2D(32, 3, activation='relu')\n",
        "    self.flatten = Flatten()\n",
        "    self.d1 = Dense(128, activation='relu')\n",
        "    self.d2 = Dense(10, activation='softmax')\n",
        "\n",
        "  def call(self, x):\n",
        "    x = self.conv1(x)\n",
        "    x = self.flatten(x)\n",
        "    x = self.d1(x)\n",
        "    return self.d2(x)\n",
        "\n",
        "model = CustomModel()\n",
        "\n",
        "loss_object = tf.keras.losses.SparseCategoricalCrossentropy()\n",
        "optimizer = tf.keras.optimizers.Adam()\n",
        "\n",
        "train_loss = tf.keras.metrics.Mean(name='train_loss')\n",
        "train_accuracy = tf.keras.metrics.SparseCategoricalAccuracy(name='train_accuracy')\n",
        "\n",
        "test_loss = tf.keras.metrics.Mean(name='test_loss')\n",
        "test_accuracy = tf.keras.metrics.SparseCategoricalAccuracy(name='test_accuracy')\n",
        "\n",
        "@tf.function\n",
        "def train_step(images, labels):\n",
        "  with tf.GradientTape() as tape:\n",
        "    predictions = model(images)\n",
        "    loss = loss_object(labels, predictions)\n",
        "  gradients = tape.gradient(loss, model.trainable_variables)\n",
        "  optimizer.apply_gradients(zip(gradients, model.trainable_variables))\n",
        "\n",
        "  train_loss(loss)\n",
        "  train_accuracy(labels, predictions)\n",
        "\n",
        "@tf.function\n",
        "def test_step(images, labels):\n",
        "  predictions = model(images)\n",
        "  t_loss = loss_object(labels, predictions)\n",
        "\n",
        "  test_loss(t_loss)\n",
        "  test_accuracy(labels, predictions)\n",
        "\n",
        "for epoch in range(EPOCHS):\n",
        "  for images, labels in train_ds:\n",
        "    train_step(images, labels)\n",
        "\n",
        "  for test_images, test_labels in test_ds:\n",
        "    test_step(test_images, test_labels)\n",
        "\n",
        "  template = 'Epoch {}, Loss: {}, Accuracy: {}, Test Loss: {}, Test Accuracy: {}'\n",
        "  print (template.format(epoch+1,\n",
        "                         train_loss.result(),\n",
        "                         train_accuracy.result()*100,\n",
        "                         test_loss.result(),\n",
        "                         test_accuracy.result()*100))\n",
        "\n",
        "# Save the weights\n",
        "model.save('fashion_mnist')"
      ],
      "metadata": {
        "colab": {
          "base_uri": "https://localhost:8080/"
        },
        "id": "DaX6lDjO8FeN",
        "outputId": "77c0b3f0-9b10-4979-f5fa-7dbeab7585fd"
      },
      "execution_count": null,
      "outputs": [
        {
          "output_type": "stream",
          "name": "stdout",
          "text": [
            "Downloading data from https://storage.googleapis.com/tensorflow/tf-keras-datasets/train-labels-idx1-ubyte.gz\n",
            "29515/29515 [==============================] - 0s 0us/step\n",
            "Downloading data from https://storage.googleapis.com/tensorflow/tf-keras-datasets/train-images-idx3-ubyte.gz\n",
            "26421880/26421880 [==============================] - 2s 0us/step\n",
            "Downloading data from https://storage.googleapis.com/tensorflow/tf-keras-datasets/t10k-labels-idx1-ubyte.gz\n",
            "5148/5148 [==============================] - 0s 0us/step\n",
            "Downloading data from https://storage.googleapis.com/tensorflow/tf-keras-datasets/t10k-images-idx3-ubyte.gz\n",
            "4422102/4422102 [==============================] - 1s 0us/step\n",
            "Epoch 1, Loss: 0.3704822361469269, Accuracy: 86.77666473388672, Test Loss: 0.2953467071056366, Test Accuracy: 89.20999908447266\n",
            "Epoch 2, Loss: 0.3058874011039734, Accuracy: 88.94083404541016, Test Loss: 0.2877168357372284, Test Accuracy: 89.54499816894531\n",
            "Epoch 3, Loss: 0.2658371925354004, Accuracy: 90.31999969482422, Test Loss: 0.2810825705528259, Test Accuracy: 89.91666412353516\n",
            "Epoch 4, Loss: 0.23525060713291168, Accuracy: 91.41791534423828, Test Loss: 0.2832569479942322, Test Accuracy: 90.07250213623047\n",
            "Epoch 5, Loss: 0.21008475124835968, Accuracy: 92.32666778564453, Test Loss: 0.29004859924316406, Test Accuracy: 90.16400146484375\n",
            "Epoch 6, Loss: 0.1887846738100052, Accuracy: 93.11194610595703, Test Loss: 0.2985830307006836, Test Accuracy: 90.29000091552734\n",
            "Epoch 7, Loss: 0.17041857540607452, Accuracy: 93.79618835449219, Test Loss: 0.3087095618247986, Test Accuracy: 90.40142822265625\n",
            "Epoch 8, Loss: 0.15502354502677917, Accuracy: 94.36187744140625, Test Loss: 0.319089412689209, Test Accuracy: 90.40374755859375\n",
            "Epoch 9, Loss: 0.14202816784381866, Accuracy: 94.84259796142578, Test Loss: 0.33228611946105957, Test Accuracy: 90.413330078125\n",
            "Epoch 10, Loss: 0.13068287074565887, Accuracy: 95.25782775878906, Test Loss: 0.34941333532333374, Test Accuracy: 90.4229965209961\n"
          ]
        }
      ]
    }
  ]
}