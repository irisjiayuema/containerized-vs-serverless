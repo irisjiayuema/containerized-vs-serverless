{
 "cells": [
  {
   "cell_type": "code",
   "execution_count": null,
   "metadata": {},
   "outputs": [],
   "source": [
    "import pickle\n",
    "import pandas as pd\n",
    "from sklearn.linear_model import LogisticRegression\n",
    "from sklearn.model_selection import train_test_split\n",
    "from sklearn.datasets import load_iris\n",
    "\n",
    "# load the iris dataset\n",
    "data = load_iris()\n",
    "# convert to pandas dataframe\n",
    "dataset = pd.DataFrame(data.data, columns=data.feature_names)\n",
    "dataset[\"class\"] = data.target\n",
    "\n",
    "# Split into labels and targets\n",
    "X = dataset.drop(\"class\", axis=1).copy()\n",
    "y = dataset[\"class\"].copy()\n",
    "\n",
    "# Create train and test set\n",
    "X_train, X_test, y_train, y_test = train_test_split(\n",
    "    X, y, test_size=0.25, random_state=26)\n",
    "\n",
    "# Training the model\n",
    "model = LogisticRegression(random_state=26)\n",
    "model.fit(X_train, y_train)\n",
    "\n",
    "# Persist the trained model\n",
    "with open(\"model.pkl\", \"wb\") as f:\n",
    "    pickle.dump(model, f)"
   ]
  }
 ],
 "metadata": {
  "language_info": {
   "name": "python"
  }
 },
 "nbformat": 4,
 "nbformat_minor": 2
}
